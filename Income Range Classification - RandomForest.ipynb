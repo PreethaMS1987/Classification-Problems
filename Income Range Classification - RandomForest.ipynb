{
  "nbformat": 4,
  "nbformat_minor": 0,
  "metadata": {
    "colab": {
      "name": "COMP-1801_Coursework.ipynb",
      "provenance": [],
      "collapsed_sections": []
    },
    "kernelspec": {
      "name": "python3",
      "display_name": "Python 3"
    },
    "language_info": {
      "name": "python"
    }
  },
  "cells": [
    {
      "cell_type": "markdown",
      "source": [
        "## Importing Libraries"
      ],
      "metadata": {
        "id": "wC8Mhv1SOHwB"
      }
    },
    {
      "cell_type": "code",
      "metadata": {
        "id": "dQgJp_RBYxHt"
      },
      "source": [
        "import numpy as np\n",
        "import pandas as pd\n",
        "\n",
        "import matplotlib.pyplot as plt\n",
        "\n",
        "from sklearn.model_selection import train_test_split\n",
        "from sklearn.preprocessing import LabelEncoder, StandardScaler, MinMaxScaler\n",
        "from sklearn.metrics import f1_score, precision_score, recall_score, confusion_matrix, classification_report, accuracy_score, ConfusionMatrixDisplay, roc_auc_score\n",
        "\n",
        "from sklearn.tree import DecisionTreeClassifier\n",
        "from sklearn.ensemble import RandomForestClassifier\n",
        "from sklearn.linear_model import LogisticRegression\n",
        "from sklearn.neighbors import KNeighborsClassifier\n",
        "from sklearn.naive_bayes import GaussianNB\n",
        "from sklearn.svm import SVC\n",
        "\n",
        "from sklearn.metrics import accuracy_score"
      ],
      "execution_count": 62,
      "outputs": []
    },
    {
      "cell_type": "markdown",
      "source": [
        "## Reading the Data"
      ],
      "metadata": {
        "id": "vUpC6ksKikUp"
      }
    },
    {
      "cell_type": "code",
      "source": [
        "#Reading the data from csv into a pandas data frame\n",
        "df = pd.read_csv(\"/content/drive/MyDrive/income_evaluation.csv\", index_col=None)"
      ],
      "metadata": {
        "id": "5eMrcc2s2rjA"
      },
      "execution_count": 63,
      "outputs": []
    },
    {
      "cell_type": "code",
      "metadata": {
        "colab": {
          "base_uri": "https://localhost:8080/"
        },
        "id": "8Pj4PQvxR6Za",
        "outputId": "645ef06f-c9c5-42f9-919f-fed334f26848"
      },
      "source": [
        "#Finding the number of dimensions of the data\n",
        "df.shape"
      ],
      "execution_count": 64,
      "outputs": [
        {
          "output_type": "execute_result",
          "data": {
            "text/plain": [
              "(32561, 15)"
            ]
          },
          "metadata": {},
          "execution_count": 64
        }
      ]
    },
    {
      "cell_type": "code",
      "metadata": {
        "colab": {
          "base_uri": "https://localhost:8080/",
          "height": 293
        },
        "id": "nF9JEVDfKPz0",
        "outputId": "08e14211-60d4-4eff-ef81-b49d5c6781fc"
      },
      "source": [
        "#Visualising first 5 rows\n",
        "df.head()"
      ],
      "execution_count": 65,
      "outputs": [
        {
          "output_type": "execute_result",
          "data": {
            "text/html": [
              "<div>\n",
              "<style scoped>\n",
              "    .dataframe tbody tr th:only-of-type {\n",
              "        vertical-align: middle;\n",
              "    }\n",
              "\n",
              "    .dataframe tbody tr th {\n",
              "        vertical-align: top;\n",
              "    }\n",
              "\n",
              "    .dataframe thead th {\n",
              "        text-align: right;\n",
              "    }\n",
              "</style>\n",
              "<table border=\"1\" class=\"dataframe\">\n",
              "  <thead>\n",
              "    <tr style=\"text-align: right;\">\n",
              "      <th></th>\n",
              "      <th>age</th>\n",
              "      <th>workclass</th>\n",
              "      <th>fnlwgt</th>\n",
              "      <th>education</th>\n",
              "      <th>education-num</th>\n",
              "      <th>marital-status</th>\n",
              "      <th>occupation</th>\n",
              "      <th>relationship</th>\n",
              "      <th>race</th>\n",
              "      <th>sex</th>\n",
              "      <th>capital-gain</th>\n",
              "      <th>capital-loss</th>\n",
              "      <th>hours-per-week</th>\n",
              "      <th>native-country</th>\n",
              "      <th>income</th>\n",
              "    </tr>\n",
              "  </thead>\n",
              "  <tbody>\n",
              "    <tr>\n",
              "      <th>0</th>\n",
              "      <td>39</td>\n",
              "      <td>State-gov</td>\n",
              "      <td>77516</td>\n",
              "      <td>Bachelors</td>\n",
              "      <td>13</td>\n",
              "      <td>Never-married</td>\n",
              "      <td>Adm-clerical</td>\n",
              "      <td>Not-in-family</td>\n",
              "      <td>White</td>\n",
              "      <td>Male</td>\n",
              "      <td>2174</td>\n",
              "      <td>0</td>\n",
              "      <td>40</td>\n",
              "      <td>United-States</td>\n",
              "      <td>&lt;=50K</td>\n",
              "    </tr>\n",
              "    <tr>\n",
              "      <th>1</th>\n",
              "      <td>50</td>\n",
              "      <td>Self-emp-not-inc</td>\n",
              "      <td>83311</td>\n",
              "      <td>Bachelors</td>\n",
              "      <td>13</td>\n",
              "      <td>Married-civ-spouse</td>\n",
              "      <td>Exec-managerial</td>\n",
              "      <td>Husband</td>\n",
              "      <td>White</td>\n",
              "      <td>Male</td>\n",
              "      <td>0</td>\n",
              "      <td>0</td>\n",
              "      <td>13</td>\n",
              "      <td>United-States</td>\n",
              "      <td>&lt;=50K</td>\n",
              "    </tr>\n",
              "    <tr>\n",
              "      <th>2</th>\n",
              "      <td>38</td>\n",
              "      <td>Private</td>\n",
              "      <td>215646</td>\n",
              "      <td>HS-grad</td>\n",
              "      <td>9</td>\n",
              "      <td>Divorced</td>\n",
              "      <td>Handlers-cleaners</td>\n",
              "      <td>Not-in-family</td>\n",
              "      <td>White</td>\n",
              "      <td>Male</td>\n",
              "      <td>0</td>\n",
              "      <td>0</td>\n",
              "      <td>40</td>\n",
              "      <td>United-States</td>\n",
              "      <td>&lt;=50K</td>\n",
              "    </tr>\n",
              "    <tr>\n",
              "      <th>3</th>\n",
              "      <td>53</td>\n",
              "      <td>Private</td>\n",
              "      <td>234721</td>\n",
              "      <td>11th</td>\n",
              "      <td>7</td>\n",
              "      <td>Married-civ-spouse</td>\n",
              "      <td>Handlers-cleaners</td>\n",
              "      <td>Husband</td>\n",
              "      <td>Black</td>\n",
              "      <td>Male</td>\n",
              "      <td>0</td>\n",
              "      <td>0</td>\n",
              "      <td>40</td>\n",
              "      <td>United-States</td>\n",
              "      <td>&lt;=50K</td>\n",
              "    </tr>\n",
              "    <tr>\n",
              "      <th>4</th>\n",
              "      <td>28</td>\n",
              "      <td>Private</td>\n",
              "      <td>338409</td>\n",
              "      <td>Bachelors</td>\n",
              "      <td>13</td>\n",
              "      <td>Married-civ-spouse</td>\n",
              "      <td>Prof-specialty</td>\n",
              "      <td>Wife</td>\n",
              "      <td>Black</td>\n",
              "      <td>Female</td>\n",
              "      <td>0</td>\n",
              "      <td>0</td>\n",
              "      <td>40</td>\n",
              "      <td>Cuba</td>\n",
              "      <td>&lt;=50K</td>\n",
              "    </tr>\n",
              "  </tbody>\n",
              "</table>\n",
              "</div>"
            ],
            "text/plain": [
              "   age          workclass   fnlwgt  ...  hours-per-week   native-country  income\n",
              "0   39          State-gov    77516  ...              40    United-States   <=50K\n",
              "1   50   Self-emp-not-inc    83311  ...              13    United-States   <=50K\n",
              "2   38            Private   215646  ...              40    United-States   <=50K\n",
              "3   53            Private   234721  ...              40    United-States   <=50K\n",
              "4   28            Private   338409  ...              40             Cuba   <=50K\n",
              "\n",
              "[5 rows x 15 columns]"
            ]
          },
          "metadata": {},
          "execution_count": 65
        }
      ]
    },
    {
      "cell_type": "markdown",
      "source": [
        "# Data Pre processing"
      ],
      "metadata": {
        "id": "NhJ2Mc2L6HvZ"
      }
    },
    {
      "cell_type": "markdown",
      "source": [
        "## Data Cleaning"
      ],
      "metadata": {
        "id": "lFP7doc8Q1a-"
      }
    },
    {
      "cell_type": "code",
      "source": [
        "#removing space from the column header\n",
        "df.columns = df.columns.str.replace(' ', '')"
      ],
      "metadata": {
        "id": "kGKHkTpaK5jI"
      },
      "execution_count": 66,
      "outputs": []
    },
    {
      "cell_type": "code",
      "source": [
        "#Checking for null values\n",
        "df.isnull().sum()"
      ],
      "metadata": {
        "colab": {
          "base_uri": "https://localhost:8080/"
        },
        "id": "jH6xCJOcjzD4",
        "outputId": "26abcecb-9ebf-402f-e002-6fc076bafd66"
      },
      "execution_count": 67,
      "outputs": [
        {
          "output_type": "execute_result",
          "data": {
            "text/plain": [
              "age               0\n",
              "workclass         0\n",
              "fnlwgt            0\n",
              "education         0\n",
              "education-num     0\n",
              "marital-status    0\n",
              "occupation        0\n",
              "relationship      0\n",
              "race              0\n",
              "sex               0\n",
              "capital-gain      0\n",
              "capital-loss      0\n",
              "hours-per-week    0\n",
              "native-country    0\n",
              "income            0\n",
              "dtype: int64"
            ]
          },
          "metadata": {},
          "execution_count": 67
        }
      ]
    },
    {
      "cell_type": "code",
      "source": [
        "df.dtypes"
      ],
      "metadata": {
        "colab": {
          "base_uri": "https://localhost:8080/"
        },
        "id": "yIc5nPzTb_Iv",
        "outputId": "c3146412-19db-4979-b324-b4a9820c3ec1"
      },
      "execution_count": 68,
      "outputs": [
        {
          "output_type": "execute_result",
          "data": {
            "text/plain": [
              "age                int64\n",
              "workclass         object\n",
              "fnlwgt             int64\n",
              "education         object\n",
              "education-num      int64\n",
              "marital-status    object\n",
              "occupation        object\n",
              "relationship      object\n",
              "race              object\n",
              "sex               object\n",
              "capital-gain       int64\n",
              "capital-loss       int64\n",
              "hours-per-week     int64\n",
              "native-country    object\n",
              "income            object\n",
              "dtype: object"
            ]
          },
          "metadata": {},
          "execution_count": 68
        }
      ]
    },
    {
      "cell_type": "code",
      "source": [
        "#Removing the rows with other anamolies like '?' \n",
        "for value in df.columns:\n",
        "    df[value].replace(' ?', np.nan, inplace = True)\n",
        "    df[value].replace(' #NAME?', np.nan, inplace = True)\n",
        "\n",
        "df = df.dropna().reset_index(drop = 'index')"
      ],
      "metadata": {
        "id": "0CPjPZPNrJsY"
      },
      "execution_count": 69,
      "outputs": []
    },
    {
      "cell_type": "markdown",
      "source": [
        "## Feature Selection"
      ],
      "metadata": {
        "id": "jpiCsYmZU8da"
      }
    },
    {
      "cell_type": "code",
      "source": [
        "df = df.drop(['relationship', 'education-num', 'race', 'sex', 'native-country'], axis=1)"
      ],
      "metadata": {
        "id": "cjMRUjCsWvSF"
      },
      "execution_count": 70,
      "outputs": []
    },
    {
      "cell_type": "markdown",
      "source": [
        "## Setting the input features and target variable"
      ],
      "metadata": {
        "id": "5msU3_CGTtNE"
      }
    },
    {
      "cell_type": "code",
      "source": [
        "X = df.drop('income', axis=1)\n",
        "y = df['income']"
      ],
      "metadata": {
        "id": "svkw9HI0kUR4"
      },
      "execution_count": 71,
      "outputs": []
    },
    {
      "cell_type": "code",
      "source": [
        "X[:3]"
      ],
      "metadata": {
        "colab": {
          "base_uri": "https://localhost:8080/",
          "height": 143
        },
        "id": "FyrHisycVM5z",
        "outputId": "2abdc111-ac15-44cb-fdf5-782b006498a5"
      },
      "execution_count": 72,
      "outputs": [
        {
          "output_type": "execute_result",
          "data": {
            "text/html": [
              "<div>\n",
              "<style scoped>\n",
              "    .dataframe tbody tr th:only-of-type {\n",
              "        vertical-align: middle;\n",
              "    }\n",
              "\n",
              "    .dataframe tbody tr th {\n",
              "        vertical-align: top;\n",
              "    }\n",
              "\n",
              "    .dataframe thead th {\n",
              "        text-align: right;\n",
              "    }\n",
              "</style>\n",
              "<table border=\"1\" class=\"dataframe\">\n",
              "  <thead>\n",
              "    <tr style=\"text-align: right;\">\n",
              "      <th></th>\n",
              "      <th>age</th>\n",
              "      <th>workclass</th>\n",
              "      <th>fnlwgt</th>\n",
              "      <th>education</th>\n",
              "      <th>marital-status</th>\n",
              "      <th>occupation</th>\n",
              "      <th>capital-gain</th>\n",
              "      <th>capital-loss</th>\n",
              "      <th>hours-per-week</th>\n",
              "    </tr>\n",
              "  </thead>\n",
              "  <tbody>\n",
              "    <tr>\n",
              "      <th>0</th>\n",
              "      <td>39</td>\n",
              "      <td>State-gov</td>\n",
              "      <td>77516</td>\n",
              "      <td>Bachelors</td>\n",
              "      <td>Never-married</td>\n",
              "      <td>Adm-clerical</td>\n",
              "      <td>2174</td>\n",
              "      <td>0</td>\n",
              "      <td>40</td>\n",
              "    </tr>\n",
              "    <tr>\n",
              "      <th>1</th>\n",
              "      <td>50</td>\n",
              "      <td>Self-emp-not-inc</td>\n",
              "      <td>83311</td>\n",
              "      <td>Bachelors</td>\n",
              "      <td>Married-civ-spouse</td>\n",
              "      <td>Exec-managerial</td>\n",
              "      <td>0</td>\n",
              "      <td>0</td>\n",
              "      <td>13</td>\n",
              "    </tr>\n",
              "    <tr>\n",
              "      <th>2</th>\n",
              "      <td>38</td>\n",
              "      <td>Private</td>\n",
              "      <td>215646</td>\n",
              "      <td>HS-grad</td>\n",
              "      <td>Divorced</td>\n",
              "      <td>Handlers-cleaners</td>\n",
              "      <td>0</td>\n",
              "      <td>0</td>\n",
              "      <td>40</td>\n",
              "    </tr>\n",
              "  </tbody>\n",
              "</table>\n",
              "</div>"
            ],
            "text/plain": [
              "   age          workclass  fnlwgt  ... capital-gain capital-loss hours-per-week\n",
              "0   39          State-gov   77516  ...         2174            0             40\n",
              "1   50   Self-emp-not-inc   83311  ...            0            0             13\n",
              "2   38            Private  215646  ...            0            0             40\n",
              "\n",
              "[3 rows x 9 columns]"
            ]
          },
          "metadata": {},
          "execution_count": 72
        }
      ]
    },
    {
      "cell_type": "code",
      "source": [
        "y = [0 if x == ' <=50K' else 1 for x in y]\n",
        "y[:3]"
      ],
      "metadata": {
        "colab": {
          "base_uri": "https://localhost:8080/"
        },
        "id": "c3SLT-_G8KW6",
        "outputId": "74131162-af0e-44b4-b312-d71a59bd8dc3"
      },
      "execution_count": 73,
      "outputs": [
        {
          "output_type": "execute_result",
          "data": {
            "text/plain": [
              "[0, 0, 0]"
            ]
          },
          "metadata": {},
          "execution_count": 73
        }
      ]
    },
    {
      "cell_type": "markdown",
      "source": [
        "## Label Encoding"
      ],
      "metadata": {
        "id": "2B8OcnnnpDyC"
      }
    },
    {
      "cell_type": "code",
      "source": [
        "#Checking the categorical variables\n",
        "for col_name in X.columns:\n",
        "    if X[col_name].dtypes == 'object':\n",
        "        unique_cat = len(df[col_name].unique())\n",
        "        print(\"Feature '{col_name}' has {unique_cat} unique categories\".format(col_name=col_name, unique_cat=unique_cat))"
      ],
      "metadata": {
        "colab": {
          "base_uri": "https://localhost:8080/"
        },
        "id": "Ix_DEUNdVVBe",
        "outputId": "cec34e1e-fbaf-4ab4-9af0-27c16250d59d"
      },
      "execution_count": 74,
      "outputs": [
        {
          "output_type": "stream",
          "name": "stdout",
          "text": [
            "Feature 'workclass' has 7 unique categories\n",
            "Feature 'education' has 16 unique categories\n",
            "Feature 'marital-status' has 7 unique categories\n",
            "Feature 'occupation' has 14 unique categories\n"
          ]
        }
      ]
    },
    {
      "cell_type": "code",
      "source": [
        "le = LabelEncoder()\n",
        "for col_name in X.columns:\n",
        "    if X[col_name].dtypes == 'object':\n",
        "      X[col_name] = le.fit_transform(X[col_name])"
      ],
      "metadata": {
        "id": "GAq4m0Gqp1gJ"
      },
      "execution_count": 75,
      "outputs": []
    },
    {
      "cell_type": "markdown",
      "source": [
        "## Feature Scaling - Standardisation"
      ],
      "metadata": {
        "id": "X-0tz2mCVpSI"
      }
    },
    {
      "cell_type": "code",
      "source": [
        "# Feature Scaling\n",
        "sc = StandardScaler()\n",
        "X = sc.fit_transform(X)\n",
        "X"
      ],
      "metadata": {
        "colab": {
          "base_uri": "https://localhost:8080/"
        },
        "id": "6ncNfu-SVp05",
        "outputId": "c4b3c999-181a-44f4-8a7c-955b210d8707"
      },
      "execution_count": 76,
      "outputs": [
        {
          "output_type": "execute_result",
          "data": {
            "text/plain": [
              "array([[ 0.04279571,  2.93600035, -1.0627216 , ...,  0.14609228,\n",
              "        -0.21858598, -0.07773411],\n",
              "       [ 0.88028814,  1.88768202, -1.00787131, ..., -0.14744462,\n",
              "        -0.21858598, -2.3315307 ],\n",
              "       [-0.03333996, -0.20895464,  0.24469349, ..., -0.14744462,\n",
              "        -0.21858598, -0.07773411],\n",
              "       ...,\n",
              "       [ 1.48937355, -0.20895464, -0.3585745 , ..., -0.14744462,\n",
              "        -0.21858598, -0.07773411],\n",
              "       [-1.25151078, -0.20895464,  0.11070545, ..., -0.14744462,\n",
              "        -0.21858598, -1.74721307],\n",
              "       [ 1.0325595 ,  0.83936369,  0.92884082, ...,  1.88111954,\n",
              "        -0.21858598, -0.07773411]])"
            ]
          },
          "metadata": {},
          "execution_count": 76
        }
      ]
    },
    {
      "cell_type": "markdown",
      "source": [
        "## Splitting Training and validation data"
      ],
      "metadata": {
        "id": "_FMLbN0wRpgD"
      }
    },
    {
      "cell_type": "code",
      "source": [
        "# Splitting the dataset into the Training set and validation set\n",
        "X_train, X_valid, y_train, y_valid = train_test_split(X, y, test_size = 0.2, random_state = 100, stratify = y)"
      ],
      "metadata": {
        "id": "C43LSSN5sJXq"
      },
      "execution_count": 77,
      "outputs": []
    },
    {
      "cell_type": "markdown",
      "source": [
        "## Fitting various classification models to the cleaned data"
      ],
      "metadata": {
        "id": "i0-UQRChUApX"
      }
    },
    {
      "cell_type": "markdown",
      "source": [
        "### 1. Logistic regression"
      ],
      "metadata": {
        "id": "8sUVQufEYRKj"
      }
    },
    {
      "cell_type": "code",
      "source": [
        "#Model Fitting\n",
        "lr = LogisticRegression()\n",
        "\n",
        "# Train the model using the training sets\n",
        "lr.fit(X_train, y_train)\n",
        "\n",
        "# Make predictions using the testing set\n",
        "y_pred_lr = lr.predict(X_valid)"
      ],
      "metadata": {
        "id": "1tBbH0trV7lf"
      },
      "execution_count": 78,
      "outputs": []
    },
    {
      "cell_type": "code",
      "source": [
        "#Evaluation Metrics\n",
        "print('\\n Classification Report: \\n',classification_report(y_valid, y_pred_lr))\n",
        "print('\\n Training Accuracy Score: {:.4f}'.format(lr.score(X_train, y_train)))\n",
        "print('\\n Validation Accuracy Score: {:.4f}'.format(accuracy_score(y_valid, y_pred_lr)))\n",
        "print('\\n Precision Score: {:.4f}'.format(precision_score(y_valid, y_pred_lr)))\n",
        "print('\\n Recall Score: {:.4f}'.format(recall_score(y_valid, y_pred_lr)))\n",
        "print('\\n f1_score: {:.4f}'.format(f1_score(y_valid, y_pred_lr)))\n",
        "\n",
        "#Calculating Error\n",
        "cm_lr = confusion_matrix(y_valid, y_pred_lr)\n",
        "Err_lr = (cm_lr[1][0]+cm_lr[0][1])/(cm_lr[0][0] + cm_lr[0][1] + cm_lr[1][0] + cm_lr[1][1])\n",
        "print('\\n Error: {:.4f}'.format(Err_lr))\n",
        "\n",
        "print('\\n Confusion Matrix \\n {}' .format(confusion_matrix(y_valid, y_pred_lr)))\n",
        "\n",
        "# Visualize the confusion matrix\n",
        "ConfusionMatrixDisplay(confusion_matrix(y_valid, y_pred_lr, normalize='all')).plot(cmap=plt.cm.OrRd)\n",
        "plt.grid(False)"
      ],
      "metadata": {
        "colab": {
          "base_uri": "https://localhost:8080/",
          "height": 747
        },
        "id": "39Wz-e0eYTsI",
        "outputId": "46f63505-30f4-4792-8b37-efc266246d1e"
      },
      "execution_count": 79,
      "outputs": [
        {
          "output_type": "stream",
          "name": "stdout",
          "text": [
            "\n",
            " Classification Report: \n",
            "               precision    recall  f1-score   support\n",
            "\n",
            "           0       0.81      0.96      0.88      4531\n",
            "           1       0.71      0.30      0.42      1502\n",
            "\n",
            "    accuracy                           0.80      6033\n",
            "   macro avg       0.76      0.63      0.65      6033\n",
            "weighted avg       0.78      0.80      0.76      6033\n",
            "\n",
            "\n",
            " Training Accuracy Score: 0.7933\n",
            "\n",
            " Validation Accuracy Score: 0.7953\n",
            "\n",
            " Precision Score: 0.7076\n",
            "\n",
            " Recall Score: 0.3029\n",
            "\n",
            " f1_score: 0.4242\n",
            "\n",
            " Error: 0.2047\n",
            "\n",
            " Confusion Matrix \n",
            " [[4343  188]\n",
            " [1047  455]]\n"
          ]
        },
        {
          "output_type": "display_data",
          "data": {
            "image/png": "[encoded data removed]",
            "text/plain": [
              "<Figure size 432x288 with 2 Axes>"
            ]
          },
          "metadata": {
            "needs_background": "light"
          }
        }
      ]
    },
    {
      "cell_type": "markdown",
      "source": [
        "### Naive Bayes"
      ],
      "metadata": {
        "id": "HjJpZab-V3vh"
      }
    },
    {
      "cell_type": "code",
      "source": [
        "#Fitting the model\n",
        "nb = GaussianNB()\n",
        "\n",
        "# Train the model using the training sets\n",
        "nb.fit(X_train, y_train)\n",
        "\n",
        "# Make predictions using the testing set\n",
        "y_pred_nb = nb.predict(X_valid)"
      ],
      "metadata": {
        "id": "UZD0ToqrL1Be"
      },
      "execution_count": 80,
      "outputs": []
    },
    {
      "cell_type": "code",
      "source": [
        "#Evaluation Metrics\n",
        "print('\\n Classification Report: \\n',classification_report(y_valid, y_pred_nb))\n",
        "print('\\n Training Accuracy Score: {:.4f}'.format(nb.score(X_train, y_train)))\n",
        "print('\\n Validation Accuracy Score: {:.4f}'.format(accuracy_score(y_valid, y_pred_nb)))\n",
        "print('\\n Precision Score: {:.4f}'.format(precision_score(y_valid, y_pred_nb)))\n",
        "print('\\n Recall Score: {:.4f}'.format(recall_score(y_valid, y_pred_nb)))\n",
        "print('\\n f1_score: {:.4f}'.format(f1_score(y_valid, y_pred_nb)))\n",
        "\n",
        "#Calculating Error\n",
        "cm_nb = confusion_matrix(y_valid, y_pred_nb)\n",
        "Err_nb = (cm_nb[1][0]+cm_nb[0][1])/(cm_nb[0][0] + cm_nb[0][1] + cm_nb[1][0] + cm_nb[1][1])\n",
        "print('\\n Error: {:.4f}'.format(Err_nb))\n",
        "\n",
        "print('\\n Confusion Matrix \\n {}' .format(confusion_matrix(y_valid, y_pred_nb)))\n",
        "\n",
        "# Visualize the confusion matrix\n",
        "ConfusionMatrixDisplay(confusion_matrix(y_valid, y_pred_nb, normalize='all')).plot(cmap=plt.cm.OrRd)\n",
        "plt.grid(False)"
      ],
      "metadata": {
        "colab": {
          "base_uri": "https://localhost:8080/",
          "height": 747
        },
        "id": "pWiLq96KNV2i",
        "outputId": "633ae9ce-4401-473b-a328-920140bef9c9"
      },
      "execution_count": 81,
      "outputs": [
        {
          "output_type": "stream",
          "name": "stdout",
          "text": [
            "\n",
            " Classification Report: \n",
            "               precision    recall  f1-score   support\n",
            "\n",
            "           0       0.81      0.95      0.87      4531\n",
            "           1       0.67      0.31      0.42      1502\n",
            "\n",
            "    accuracy                           0.79      6033\n",
            "   macro avg       0.74      0.63      0.65      6033\n",
            "weighted avg       0.77      0.79      0.76      6033\n",
            "\n",
            "\n",
            " Training Accuracy Score: 0.7892\n",
            "\n",
            " Validation Accuracy Score: 0.7908\n",
            "\n",
            " Precision Score: 0.6739\n",
            "\n",
            " Recall Score: 0.3096\n",
            "\n",
            " f1_score: 0.4243\n",
            "\n",
            " Error: 0.2092\n",
            "\n",
            " Confusion Matrix \n",
            " [[4306  225]\n",
            " [1037  465]]\n"
          ]
        },
        {
          "output_type": "display_data",
          "data": {
            "image/png": "[encoded data removed]",
            "text/plain": [
              "<Figure size 432x288 with 2 Axes>"
            ]
          },
          "metadata": {
            "needs_background": "light"
          }
        }
      ]
    },
    {
      "cell_type": "markdown",
      "source": [
        "### Support Vector Machine"
      ],
      "metadata": {
        "id": "kbgFY1pnU__K"
      }
    },
    {
      "cell_type": "code",
      "source": [
        "#Model Fitting\n",
        "svc = SVC()\n",
        "\n",
        "# Train the model using the training sets\n",
        "svc.fit(X_train, y_train)\n",
        "\n",
        "# Make predictions using the testing set\n",
        "y_pred_svc = svc.predict(X_valid)"
      ],
      "metadata": {
        "id": "CdqDsTTMYsvh"
      },
      "execution_count": 82,
      "outputs": []
    },
    {
      "cell_type": "code",
      "source": [
        "#Evaluation Metrics\n",
        "print('\\n Classification Report: \\n',classification_report(y_valid, y_pred_svc))\n",
        "print('\\n Training Accuracy Score: {:.4f}'.format(svc.score(X_train, y_train)))\n",
        "print('\\n Validation Accuracy Score: {:.4f}'.format(accuracy_score(y_valid, y_pred_svc)))\n",
        "print('\\n Precision Score: {:.4f}'.format(precision_score(y_valid, y_pred_svc)))\n",
        "print('\\n Recall Score: {:.4f}'.format(recall_score(y_valid, y_pred_svc)))\n",
        "print('\\n f1_score: {:.4f}'.format(f1_score(y_valid, y_pred_svc)))\n",
        "\n",
        "#Calculating Error\n",
        "cm_svc = confusion_matrix(y_valid, y_pred_svc)\n",
        "Err_svc = (cm_svc[1][0]+cm_svc[0][1])/(cm_svc[0][0] + cm_svc[0][1] + cm_svc[1][0] + cm_svc[1][1])\n",
        "print('\\n Error: {:.4f}'.format(Err_svc))\n",
        "\n",
        "\n",
        "print('\\n Confusion Matrix \\n {}' .format(confusion_matrix(y_valid, y_pred_svc)))\n",
        "\n",
        "# Visualize the confusion matrix\n",
        "ConfusionMatrixDisplay(confusion_matrix(y_valid, y_pred_svc, normalize='all')).plot(cmap=plt.cm.OrRd)\n",
        "plt.grid(False)"
      ],
      "metadata": {
        "colab": {
          "base_uri": "https://localhost:8080/",
          "height": 747
        },
        "id": "4qLrzlBXZSi6",
        "outputId": "12644b05-d4d9-45d9-ea1b-68188d80c93c"
      },
      "execution_count": 83,
      "outputs": [
        {
          "output_type": "stream",
          "name": "stdout",
          "text": [
            "\n",
            " Classification Report: \n",
            "               precision    recall  f1-score   support\n",
            "\n",
            "           0       0.83      0.96      0.89      4531\n",
            "           1       0.79      0.41      0.54      1502\n",
            "\n",
            "    accuracy                           0.83      6033\n",
            "   macro avg       0.81      0.69      0.72      6033\n",
            "weighted avg       0.82      0.83      0.81      6033\n",
            "\n",
            "\n",
            " Training Accuracy Score: 0.8277\n",
            "\n",
            " Validation Accuracy Score: 0.8263\n",
            "\n",
            " Precision Score: 0.7873\n",
            "\n",
            " Recall Score: 0.4141\n",
            "\n",
            " f1_score: 0.5428\n",
            "\n",
            " Error: 0.1737\n",
            "\n",
            " Confusion Matrix \n",
            " [[4363  168]\n",
            " [ 880  622]]\n"
          ]
        },
        {
          "output_type": "display_data",
          "data": {
            "image/png": "[encoded data removed]",
            "text/plain": [
              "<Figure size 432x288 with 2 Axes>"
            ]
          },
          "metadata": {
            "needs_background": "light"
          }
        }
      ]
    },
    {
      "cell_type": "markdown",
      "source": [
        "### Decision Tree"
      ],
      "metadata": {
        "id": "gOCmARn5VTYa"
      }
    },
    {
      "cell_type": "code",
      "source": [
        "#Model Fitting\n",
        "dt = DecisionTreeClassifier(criterion='gini', random_state=1)\n",
        "\n",
        "# Train the model using the training sets\n",
        "dt.fit(X_train, y_train)\n",
        "\n",
        "y_pred_dt = dt.predict(X_valid)"
      ],
      "metadata": {
        "id": "Qg4TBwuK6Tii"
      },
      "execution_count": 84,
      "outputs": []
    },
    {
      "cell_type": "code",
      "source": [
        "#Evaluation Metrics\n",
        "print('\\n Classification Report: \\n',classification_report(y_valid, y_pred_dt))\n",
        "print('\\n Training Accuracy Score: {:.4f}'.format(dt.score(X_train, y_train)))\n",
        "print('\\n Validation Accuracy Score: {:.4f}'.format(accuracy_score(y_valid, y_pred_dt)))\n",
        "print('\\n Precision Score: {:.4f}'.format(precision_score(y_valid, y_pred_dt)))\n",
        "print('\\n Recall Score: {:.4f}'.format(recall_score(y_valid, y_pred_dt)))\n",
        "print('\\n f1_score: {:.4f}'.format(f1_score(y_valid, y_pred_dt)))\n",
        "\n",
        "#Calculating Error\n",
        "cm_dt = confusion_matrix(y_valid, y_pred_dt)\n",
        "Err_dt = (cm_dt[1][0]+cm_dt[0][1])/(cm_dt[0][0] + cm_dt[0][1] + cm_dt[1][0] + cm_dt[1][1])\n",
        "print('\\n Error: {:.4f}'.format(Err_dt))\n",
        "\n",
        "print('\\n Confusion Matrix \\n {}' .format(confusion_matrix(y_valid, y_pred_dt)))\n",
        "\n",
        "# Visualize the confusion matrix\n",
        "ConfusionMatrixDisplay(confusion_matrix(y_valid, y_pred_dt, normalize='all')).plot(cmap=plt.cm.OrRd)\n",
        "plt.grid(False)"
      ],
      "metadata": {
        "colab": {
          "base_uri": "https://localhost:8080/",
          "height": 747
        },
        "id": "t-8Mi5By8U5r",
        "outputId": "090fefe0-6f4d-4bb4-fc58-526c80b2555c"
      },
      "execution_count": 85,
      "outputs": [
        {
          "output_type": "stream",
          "name": "stdout",
          "text": [
            "\n",
            " Classification Report: \n",
            "               precision    recall  f1-score   support\n",
            "\n",
            "           0       0.87      0.87      0.87      4531\n",
            "           1       0.60      0.60      0.60      1502\n",
            "\n",
            "    accuracy                           0.80      6033\n",
            "   macro avg       0.74      0.73      0.74      6033\n",
            "weighted avg       0.80      0.80      0.80      6033\n",
            "\n",
            "\n",
            " Training Accuracy Score: 1.0000\n",
            "\n",
            " Validation Accuracy Score: 0.8028\n",
            "\n",
            " Precision Score: 0.6047\n",
            "\n",
            " Recall Score: 0.5999\n",
            "\n",
            " f1_score: 0.6023\n",
            "\n",
            " Error: 0.1972\n",
            "\n",
            " Confusion Matrix \n",
            " [[3942  589]\n",
            " [ 601  901]]\n"
          ]
        },
        {
          "output_type": "display_data",
          "data": {
            "image/png": "[encoded data removed]",
            "text/plain": [
              "<Figure size 432x288 with 2 Axes>"
            ]
          },
          "metadata": {
            "needs_background": "light"
          }
        }
      ]
    },
    {
      "cell_type": "markdown",
      "source": [
        "### Random Forest - Basic Model"
      ],
      "metadata": {
        "id": "kjpnMoEYVeXl"
      }
    },
    {
      "cell_type": "code",
      "source": [
        "#Random Forest - Initial model\n",
        "RF_b = RandomForestClassifier(n_estimators = 10, max_depth=None, \n",
        "                            random_state = 42, max_features = 'auto',\n",
        "                            min_samples_split = 2)\n",
        "RF_b.fit(X_train, y_train)\n",
        "y_pred_b = RF_b.predict(X_valid)"
      ],
      "metadata": {
        "id": "K937jkka-PJl"
      },
      "execution_count": 86,
      "outputs": []
    },
    {
      "cell_type": "code",
      "source": [
        "#Evaluation Metrics\n",
        "print('\\n Classification Report: \\n',classification_report(y_valid, y_pred_b))\n",
        "print('\\n Training Accuracy Score: {:.4f}'.format(RF_b.score(X_train, y_train)))\n",
        "print('\\n Validation Accuracy Score: {:.4f}'.format(accuracy_score(y_valid, y_pred_b)))\n",
        "print('\\n Precision Score: {:.4f}'.format(precision_score(y_valid, y_pred_b)))\n",
        "print('\\n Recall Score: {:.4f}'.format(recall_score(y_valid, y_pred_b)))\n",
        "print('\\n f1_score: {:.4f}'.format(f1_score(y_valid, y_pred_b)))\n",
        "\n",
        "#Calculating Error\n",
        "cm_RF_b = confusion_matrix(y_valid, y_pred_b)\n",
        "Err_RF_b = (cm_RF_b[1][0]+cm_RF_b[0][1])/(cm_RF_b[0][0] + cm_RF_b[0][1] + cm_RF_b[1][0] + cm_RF_b[1][1])\n",
        "print('\\n Error: {:.4f}'.format(Err_RF_b))\n",
        "\n",
        "print('\\n Confusion Matrix \\n {}' .format(confusion_matrix(y_valid, y_pred_b)))\n",
        "\n",
        "# Visualize the confusion matrix\n",
        "ConfusionMatrixDisplay(confusion_matrix(y_valid, y_pred_b, normalize='all')).plot(cmap=plt.cm.OrRd)\n",
        "plt.grid(False)"
      ],
      "metadata": {
        "colab": {
          "base_uri": "https://localhost:8080/",
          "height": 751
        },
        "id": "GVpKaBGC-j_n",
        "outputId": "e60508b6-e8e5-4385-c581-c54b8e0190ed"
      },
      "execution_count": 87,
      "outputs": [
        {
          "output_type": "stream",
          "name": "stdout",
          "text": [
            "\n",
            " Classification Report: \n",
            "               precision    recall  f1-score   support\n",
            "\n",
            "           0       0.87      0.93      0.90      4531\n",
            "           1       0.74      0.57      0.65      1502\n",
            "\n",
            "    accuracy                           0.84      6033\n",
            "   macro avg       0.80      0.75      0.77      6033\n",
            "weighted avg       0.84      0.84      0.84      6033\n",
            "\n",
            "\n",
            " Training Accuracy Score: 0.9873\n",
            "\n",
            " Validation Accuracy Score: 0.8432\n",
            "\n",
            " Precision Score: 0.7388\n",
            "\n",
            " Recall Score: 0.5726\n",
            "\n",
            " f1_score: 0.6452\n",
            "\n",
            " Error: 0.1568\n",
            "\n",
            " Confusion Matrix \n",
            " [[4227  304]\n",
            " [ 642  860]]\n"
          ]
        },
        {
          "output_type": "display_data",
          "data": {
            "image/png": "[encoded data removed]",
            "text/plain": [
              "<Figure size 432x288 with 2 Axes>"
            ]
          },
          "metadata": {
            "needs_background": "light"
          }
        }
      ]
    },
    {
      "cell_type": "markdown",
      "source": [
        "### Random Forest - hyper parameter tuning"
      ],
      "metadata": {
        "id": "IprsDUo3Vtxg"
      }
    },
    {
      "cell_type": "code",
      "source": [
        "for n_estimators in range(20,300,20):\n",
        "    print('Accuracy score using n_estimators =', n_estimators, end = ': ')\n",
        "    RF = RandomForestClassifier(n_estimators = n_estimators, max_depth=None, \n",
        "                            random_state = 42, max_features = 'auto',\n",
        "                            min_samples_split = 2)\n",
        "    RF.fit(X_train, y_train)\n",
        "    y_pred = RF.predict(X_valid)\n",
        "    print(accuracy_score(y_valid, y_pred))"
      ],
      "metadata": {
        "colab": {
          "base_uri": "https://localhost:8080/"
        },
        "id": "hEvrXz2G-t8V",
        "outputId": "73fe6a1a-8d1b-43ec-8ea8-9b6e76975375"
      },
      "execution_count": 88,
      "outputs": [
        {
          "output_type": "stream",
          "name": "stdout",
          "text": [
            "Accuracy score using n_estimators = 20: 0.8465108569534229\n",
            "Accuracy score using n_estimators = 40: 0.8481684070943146\n",
            "Accuracy score using n_estimators = 60: 0.8493286921929388\n",
            "Accuracy score using n_estimators = 80: 0.850488977291563\n",
            "Accuracy score using n_estimators = 100: 0.8499917122492956\n",
            "Accuracy score using n_estimators = 120: 0.8511519973479198\n",
            "Accuracy score using n_estimators = 140: 0.8511519973479198\n",
            "Accuracy score using n_estimators = 160: 0.852312282446544\n",
            "Accuracy score using n_estimators = 180: 0.8501574672633847\n",
            "Accuracy score using n_estimators = 200: 0.8501574672633847\n",
            "Accuracy score using n_estimators = 220: 0.8488314271506713\n",
            "Accuracy score using n_estimators = 240: 0.8480026520802254\n",
            "Accuracy score using n_estimators = 260: 0.849494447207028\n",
            "Accuracy score using n_estimators = 280: 0.8499917122492956\n"
          ]
        }
      ]
    },
    {
      "cell_type": "code",
      "source": [
        "for max_depth in range(1,20):\n",
        "    print('Accuracy score using max_depth =', max_depth, end = ': ')\n",
        "    RF = RandomForestClassifier(n_estimators = 160, max_depth=max_depth, \n",
        "                            random_state = 42, max_features = 'auto',\n",
        "                            min_samples_split = 2)\n",
        "    RF.fit(X_train, y_train)\n",
        "    y_pred = RF.predict(X_valid)\n",
        "    print(accuracy_score(y_valid, y_pred))"
      ],
      "metadata": {
        "colab": {
          "base_uri": "https://localhost:8080/"
        },
        "id": "qFQ_QoJW_xmc",
        "outputId": "63a6e06e-ed30-40e4-ffa9-3f58fa7dc491"
      },
      "execution_count": 89,
      "outputs": [
        {
          "output_type": "stream",
          "name": "stdout",
          "text": [
            "Accuracy score using max_depth = 1: 0.7692690203878667\n",
            "Accuracy score using max_depth = 2: 0.797778882811205\n",
            "Accuracy score using max_depth = 3: 0.8075584286424664\n",
            "Accuracy score using max_depth = 4: 0.8148516492623902\n",
            "Accuracy score using max_depth = 5: 0.8148516492623902\n",
            "Accuracy score using max_depth = 6: 0.8194927896568871\n",
            "Accuracy score using max_depth = 7: 0.8352395159953588\n",
            "Accuracy score using max_depth = 8: 0.8465108569534229\n",
            "Accuracy score using max_depth = 9: 0.8511519973479198\n",
            "Accuracy score using max_depth = 10: 0.8546328526437925\n",
            "Accuracy score using max_depth = 11: 0.8576164428973977\n",
            "Accuracy score using max_depth = 12: 0.8586109729819327\n",
            "Accuracy score using max_depth = 13: 0.8577821979114868\n",
            "Accuracy score using max_depth = 14: 0.8572849328692193\n",
            "Accuracy score using max_depth = 15: 0.859771258080557\n",
            "Accuracy score using max_depth = 16: 0.8592739930382894\n",
            "Accuracy score using max_depth = 17: 0.8602685231228244\n",
            "Accuracy score using max_depth = 18: 0.8601027681087353\n",
            "Accuracy score using max_depth = 19: 0.8592739930382894\n"
          ]
        }
      ]
    },
    {
      "cell_type": "code",
      "source": [
        "for max_features in np.linspace(0.1,1,10):\n",
        "    print('Accuracy score using max_features =', max_features, end = ': ')\n",
        "    RF = RandomForestClassifier(n_estimators = 160, max_depth=18, \n",
        "                            random_state = 42, max_features = max_features,\n",
        "                            min_samples_split = 2)\n",
        "    RF.fit(X_train, y_train)\n",
        "    y_pred = RF.predict(X_valid)\n",
        "    print(accuracy_score(y_valid, y_pred))"
      ],
      "metadata": {
        "colab": {
          "base_uri": "https://localhost:8080/"
        },
        "id": "_S4FAhGZxMpM",
        "outputId": "a7c77111-6fb0-43eb-c703-94955a844049"
      },
      "execution_count": 90,
      "outputs": [
        {
          "output_type": "stream",
          "name": "stdout",
          "text": [
            "Accuracy score using max_features = 0.1: 0.8552958727001492\n",
            "Accuracy score using max_features = 0.2: 0.8552958727001492\n",
            "Accuracy score using max_features = 0.30000000000000004: 0.8594397480523785\n",
            "Accuracy score using max_features = 0.4: 0.8601027681087353\n",
            "Accuracy score using max_features = 0.5: 0.8591082380242002\n",
            "Accuracy score using max_features = 0.6: 0.8567876678269518\n",
            "Accuracy score using max_features = 0.7000000000000001: 0.8566219128128626\n",
            "Accuracy score using max_features = 0.8: 0.8564561577987734\n",
            "Accuracy score using max_features = 0.9: 0.8569534228410409\n",
            "Accuracy score using max_features = 1.0: 0.8546328526437925\n"
          ]
        }
      ]
    },
    {
      "cell_type": "code",
      "source": [
        "for min_samples_split in range(2,10):\n",
        "    print('Accuracy score using min_samples_split =', min_samples_split, end = ': ')\n",
        "    RF = RandomForestClassifier(n_estimators = 160, max_depth=18, \n",
        "                            random_state = 42, max_features = 0.4,\n",
        "                            min_samples_split = min_samples_split)\n",
        "    RF.fit(X_train, y_train)\n",
        "    y_pred = RF.predict(X_valid)\n",
        "    print(accuracy_score(y_valid, y_pred))"
      ],
      "metadata": {
        "colab": {
          "base_uri": "https://localhost:8080/"
        },
        "id": "QJbqMVqILIil",
        "outputId": "c529575c-a875-4b8d-c27f-b87a91a67aff"
      },
      "execution_count": 91,
      "outputs": [
        {
          "output_type": "stream",
          "name": "stdout",
          "text": [
            "Accuracy score using min_samples_split = 2: 0.8601027681087353\n",
            "Accuracy score using min_samples_split = 3: 0.8604342781369136\n",
            "Accuracy score using min_samples_split = 4: 0.8617603182496271\n",
            "Accuracy score using min_samples_split = 5: 0.8620918282778054\n",
            "Accuracy score using min_samples_split = 6: 0.8614288082214487\n",
            "Accuracy score using min_samples_split = 7: 0.8591082380242002\n",
            "Accuracy score using min_samples_split = 8: 0.8615945632355378\n",
            "Accuracy score using min_samples_split = 9: 0.8614288082214487\n"
          ]
        }
      ]
    },
    {
      "cell_type": "markdown",
      "source": [
        "### Random Forest - After hyper parameter tuning"
      ],
      "metadata": {
        "id": "lZeBhc-aXHYu"
      }
    },
    {
      "cell_type": "code",
      "source": [
        "RF = RandomForestClassifier(n_estimators = 180, max_depth=18, \n",
        "                            random_state = 42, max_features = 0.4,\n",
        "                            min_samples_split = 5)\n",
        "RF.fit(X_train, y_train)\n",
        "y_pred = RF.predict(X_valid)"
      ],
      "metadata": {
        "id": "KWksgub0Nm1r"
      },
      "execution_count": 92,
      "outputs": []
    },
    {
      "cell_type": "code",
      "source": [
        "#Evaluation Metrics\n",
        "print('\\n Classification Report: \\n',classification_report(y_valid, y_pred))\n",
        "print('\\n Training Accuracy Score: {:.4f}'.format(RF.score(X_train, y_train)))\n",
        "print('\\n Validation Accuracy Score: {:.4f}'.format(accuracy_score(y_valid, y_pred)))\n",
        "print('\\n Precision Score: {:.4f}'.format(precision_score(y_valid, y_pred)))\n",
        "print('\\n Recall Score: {:.4f}'.format(recall_score(y_valid, y_pred)))\n",
        "print('\\n f1_score: {:.4f}'.format(f1_score(y_valid, y_pred)))\n",
        "\n",
        "#Calculating Error\n",
        "cm_RF = confusion_matrix(y_valid, y_pred)\n",
        "Err_RF = (cm_RF[1][0]+cm_RF[0][1])/(cm_RF[0][0] + cm_RF[0][1] + cm_RF[1][0] + cm_RF[1][1])\n",
        "print('\\n Error: {:.4f}'.format(Err_RF))\n",
        "\n",
        "print('\\n Confusion Matrix \\n {}' .format(confusion_matrix(y_valid, y_pred)))\n",
        "\n",
        "# Visualize the confusion matrix\n",
        "ConfusionMatrixDisplay(confusion_matrix(y_valid, y_pred, normalize='all')).plot(cmap=plt.cm.OrRd)\n",
        "plt.grid(False)"
      ],
      "metadata": {
        "colab": {
          "base_uri": "https://localhost:8080/",
          "height": 750
        },
        "id": "Wpea9Ir0Xjjr",
        "outputId": "a9b21a8b-f83b-4f89-9ee0-69b16a8f6406"
      },
      "execution_count": 93,
      "outputs": [
        {
          "output_type": "stream",
          "name": "stdout",
          "text": [
            "\n",
            " Classification Report: \n",
            "               precision    recall  f1-score   support\n",
            "\n",
            "           0       0.88      0.94      0.91      4531\n",
            "           1       0.78      0.62      0.69      1502\n",
            "\n",
            "    accuracy                           0.86      6033\n",
            "   macro avg       0.83      0.78      0.80      6033\n",
            "weighted avg       0.86      0.86      0.86      6033\n",
            "\n",
            "\n",
            " Training Accuracy Score: 0.9270\n",
            "\n",
            " Validation Accuracy Score: 0.8619\n",
            "\n",
            " Precision Score: 0.7828\n",
            "\n",
            " Recall Score: 0.6165\n",
            "\n",
            " f1_score: 0.6898\n",
            "\n",
            " Error: 0.1381\n",
            "\n",
            " Confusion Matrix \n",
            " [[4274  257]\n",
            " [ 576  926]]\n"
          ]
        },
        {
          "output_type": "display_data",
          "data": {
            "image/png": "[encoded data removed]",
            "text/plain": [
              "<Figure size 432x288 with 2 Axes>"
            ]
          },
          "metadata": {
            "needs_background": "light"
          }
        }
      ]
    },
    {
      "cell_type": "markdown",
      "source": [
        "## Feature Importance"
      ],
      "metadata": {
        "id": "oMzJeEg3NAkY"
      }
    },
    {
      "cell_type": "code",
      "source": [
        "importance_value=np.round((RF_b.feature_importances_)*100,2)\n",
        "importance_features=[(feature,importance1) for feature,importance1 in zip(df.columns,importance_value)]\n",
        "importance_features=sorted(importance_features,key=lambda x: x[1],reverse=True) \n",
        "[print('Variable: {:20} Importance: {}'.format(*pair)) for pair in importance_features];"
      ],
      "metadata": {
        "colab": {
          "base_uri": "https://localhost:8080/"
        },
        "id": "R4WmF9kab0Za",
        "outputId": "20d3d7a1-b220-4342-f4fb-1e824f9e06ad"
      },
      "execution_count": 94,
      "outputs": [
        {
          "output_type": "stream",
          "name": "stdout",
          "text": [
            "Variable: fnlwgt               Importance: 20.1\n",
            "Variable: age                  Importance: 18.14\n",
            "Variable: marital-status       Importance: 13.93\n",
            "Variable: capital-gain         Importance: 13.09\n",
            "Variable: hours-per-week       Importance: 8.8\n",
            "Variable: education            Importance: 8.31\n",
            "Variable: occupation           Importance: 8.19\n",
            "Variable: capital-loss         Importance: 5.03\n",
            "Variable: workclass            Importance: 4.41\n"
          ]
        }
      ]
    },
    {
      "cell_type": "code",
      "source": [
        "# list of x locations for plotting\n",
        "x_values = list(range(len(importance_value)))\n",
        "# Make a bar chart\n",
        "plt.bar(x_values, importance_value, orientation = 'vertical')\n",
        "# Tick labels for x axis\n",
        "plt.xticks(x_values, df.columns, rotation='vertical')\n",
        "# Axis labels and title\n",
        "plt.ylabel('Importance'); plt.xlabel('Variable'); plt.title('Variable Importances');"
      ],
      "metadata": {
        "colab": {
          "base_uri": "https://localhost:8080/",
          "height": 363
        },
        "id": "su4o5ecW-q4l",
        "outputId": "6ca0509c-de1d-4f8d-c9a2-cf093ebacc6a"
      },
      "execution_count": 95,
      "outputs": [
        {
          "output_type": "display_data",
          "data": {
            "image/png": "[encoded data removed]",
            "text/plain": [
              "<Figure size 432x288 with 1 Axes>"
            ]
          },
          "metadata": {
            "needs_background": "light"
          }
        }
      ]
    }
  ]
}